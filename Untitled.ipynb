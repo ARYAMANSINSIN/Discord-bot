{
 "cells": [
  {
   "cell_type": "code",
   "execution_count": null,
   "id": "f1c0bd23",
   "metadata": {},
   "outputs": [],
   "source": []
  },
  {
   "cell_type": "code",
   "execution_count": null,
   "id": "b17e2ce9",
   "metadata": {},
   "outputs": [
    {
     "name": "stderr",
     "output_type": "stream",
     "text": [
      "[2023-12-15 02:03:47] [INFO    ] discord.client: logging in using static token\n",
      "[2023-12-15 02:03:49] [INFO    ] discord.gateway: Shard ID None has connected to Gateway (Session ID: 14d7ce686f9725594bc5e30e9028fbe5).\n",
      "[2023-12-15 02:03:51] [ERROR   ] discord.client: Ignoring exception in on_ready\n",
      "Traceback (most recent call last):\n",
      "  File \"C:\\Users\\aryam\\anaconda3\\lib\\site-packages\\discord\\client.py\", line 441, in _run_event\n",
      "    await coro(*args, **kwargs)\n",
      "  File \"C:\\Users\\aryam\\AppData\\Local\\Temp\\ipykernel_56564\\2860182655.py\", line 19, in on_ready\n",
      "    await channel.send(\"hello world\")\n",
      "AttributeError: 'NoneType' object has no attribute 'send'\n"
     ]
    },
    {
     "name": "stdout",
     "output_type": "stream",
     "text": [
      "hello world\n"
     ]
    }
   ],
   "source": [
    "import discord\n",
    "import nest_asyncio\n",
    "\n",
    "nest_asyncio.apply()\n",
    "\n",
    "bot_token = \"MTE4NDQ5MjAyMDQyMTY0NDMyOA.G5hgbA.umxIqWv_rIUfg0csaijOIYdUBmBnvHU3ZQIUoA\"\n",
    "CHANNEL_ID = \"1184523387247276055\"\n",
    "\n",
    "# Create intents instance\n",
    "intents = discord.Intents.default()\n",
    "intents.message_content = True  # Add other intent flags as needed\n",
    "\n",
    "my_bot = discord.Client(intents=intents)\n",
    "\n",
    "@my_bot.event\n",
    "async  def  on_ready():\n",
    "    print(\"hello world\")\n",
    "    channel = my_bot.get_channel(CHANNEL_ID)\n",
    "    await channel.send(\"hello world\")\n",
    "\n",
    "my_bot.run(bot_token)"
   ]
  },
  {
   "cell_type": "code",
   "execution_count": null,
   "id": "fcf66589",
   "metadata": {},
   "outputs": [
    {
     "name": "stderr",
     "output_type": "stream",
     "text": [
      "[2023-12-15 02:06:04] [INFO    ] discord.client: logging in using static token\n",
      "[2023-12-15 02:06:05] [INFO    ] discord.gateway: Shard ID None has connected to Gateway (Session ID: 94e00bcb1ff909d8274421c0dec9cf00).\n"
     ]
    },
    {
     "name": "stdout",
     "output_type": "stream",
     "text": [
      "hello world\n"
     ]
    }
   ],
   "source": [
    "import discord\n",
    "import nest_asyncio\n",
    "\n",
    "nest_asyncio.apply()\n",
    "\n",
    "bot_token = \"MTE4NDQ5MjAyMDQyMTY0NDMyOA.G5hgbA.umxIqWv_rIUfg0csaijOIYdUBmBnvHU3ZQIUoA\"\n",
    "CHANNEL_ID = \"1184523387247276055\"\n",
    "\n",
    "# Create intents instance\n",
    "intents = discord.Intents.default()\n",
    "intents.message_content = True  # Add other intent flags as needed\n",
    "\n",
    "my_bot = discord.Client(intents=intents)\n",
    "\n",
    "@my_bot.event\n",
    "async def on_ready():\n",
    "    print(\"hello world\")\n",
    "    channel = my_bot.get_channel(int(CHANNEL_ID))\n",
    "    if channel:\n",
    "        await channel.send(\"hello world\")\n",
    "    else:\n",
    "        print(f\"Channel with ID {CHANNEL_ID} not found or bot does not have access.\")\n",
    "\n",
    "my_bot.run(bot_token)\n"
   ]
  },
  {
   "cell_type": "code",
   "execution_count": null,
   "id": "a9b217f2",
   "metadata": {},
   "outputs": [],
   "source": []
  }
 ],
 "metadata": {
  "kernelspec": {
   "display_name": "Python 3 (ipykernel)",
   "language": "python",
   "name": "python3"
  },
  "language_info": {
   "codemirror_mode": {
    "name": "ipython",
    "version": 3
   },
   "file_extension": ".py",
   "mimetype": "text/x-python",
   "name": "python",
   "nbconvert_exporter": "python",
   "pygments_lexer": "ipython3",
   "version": "3.9.12"
  }
 },
 "nbformat": 4,
 "nbformat_minor": 5
}
